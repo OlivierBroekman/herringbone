{
 "cells": [
  {
   "cell_type": "code",
   "execution_count": 1,
   "metadata": {},
   "outputs": [
    {
     "name": "stdout",
     "output_type": "stream",
     "text": [
      "All initialization tests passed.\n",
      "imported herringbone without any errors :)\n"
     ]
    }
   ],
   "source": [
    "import herringbone as hb"
   ]
  },
  {
   "cell_type": "markdown",
   "metadata": {},
   "source": [
    "### Creating an MDP"
   ]
  },
  {
   "cell_type": "code",
   "execution_count": 2,
   "metadata": {},
   "outputs": [],
   "source": [
    "map_names = [\"slides\", \"example\", \"easy\", \"danger_holes\", \"double_fish\", \"wall_of_death\", \"example2\", \"mega\"]\n",
    "selected_map_id = 1\n",
    "\n",
    "state_path = \"herringbone/env_core/config/state_config.json\"\n",
    "map_path = f\"herringbone/env_core/maps/{map_names[selected_map_id]}.csv\"\n",
    "action_path = \"herringbone/env_core/config/action_config.json\"\n",
    "\n",
    "gamma = 0.9\n",
    "\n",
    "mdp = hb.MDP(state_path, map_path, action_path, seed=42, gamma=gamma)"
   ]
  },
  {
   "cell_type": "markdown",
   "metadata": {},
   "source": [
    "### Previewing the board"
   ]
  },
  {
   "cell_type": "code",
   "execution_count": 3,
   "metadata": {},
   "outputs": [
    {
     "name": "stdout",
     "output_type": "stream",
     "text": [
      "╔═════════╦═════════╦═════════╦═════════╦═════════╗\n",
      "║ \u001b[34m       \u001b[0m ║ \u001b[34m       \u001b[0m ║ \u001b[34m       \u001b[0m ║ \u001b[34m       \u001b[0m ║ \u001b[34m       \u001b[0m ║\n",
      "╠═════════╬═════════╬═════════╬═════════╬═════════╣\n",
      "║ \u001b[34m       \u001b[0m ║ \u001b[34m       \u001b[0m ║ \u001b[34m       \u001b[0m ║ \u001b[34m       \u001b[0m ║ \u001b[34m       \u001b[0m ║\n",
      "╠═════════╬═════════╬═════════╬═════════╬═════════╣\n",
      "║ \u001b[34m       \u001b[0m ║ \u001b[34m       \u001b[0m ║ \u001b[34m       \u001b[0m ║ \u001b[34m       \u001b[0m ║ \u001b[32m<x)))><\u001b[0m ║\n",
      "╚═════════╩═════════╩═════════╩═════════╩═════════╝[0]\n"
     ]
    }
   ],
   "source": [
    "render_modes = ['sar', 'rewards', 'ascii']\n",
    "hb.Render.preview_frame(board=mdp.get_board(), agent_state=None, render_mode=render_modes[2])"
   ]
  },
  {
   "cell_type": "markdown",
   "metadata": {},
   "source": [
    "### Previewing a policy"
   ]
  },
  {
   "cell_type": "code",
   "execution_count": 4,
   "metadata": {},
   "outputs": [
    {
     "name": "stdout",
     "output_type": "stream",
     "text": [
      "╔═════════╦═════════╦═════════╦═════════╦═════════╗\n",
      "║ ↑/↓/←/→ ║ ↑/↓/←/→ ║ ↑/↓/←/→ ║ ↑/↓/←/→ ║ ↑/↓/←/→ ║\n",
      "╠═════════╬═════════╬═════════╬═════════╬═════════╣\n",
      "║ ↑/↓/←/→ ║ ↑/↓/←/→ ║ ↑/↓/←/→ ║ ↑/↓/←/→ ║ ↑/↓/←/→ ║\n",
      "╠═════════╬═════════╬═════════╬═════════╬═════════╣\n",
      "║ ↑/↓/←/→ ║ ↑/↓/←/→ ║ ↑/↓/←/→ ║ ↑/↓/←/→ ║ ↑/↓/←/→ ║\n",
      "╚═════════╩═════════╩═════════╩═════════╩═════════╝\n"
     ]
    }
   ],
   "source": [
    "# Create a uniform random policy\n",
    "policy = hb.Policy(mdp=mdp)\n",
    "\n",
    "print(policy)"
   ]
  },
  {
   "cell_type": "markdown",
   "metadata": {},
   "source": [
    "### Policy Iteration\n",
    "\n"
   ]
  },
  {
   "cell_type": "code",
   "execution_count": 13,
   "metadata": {},
   "outputs": [],
   "source": [
    "theta = 0.00001\n",
    "\n",
    "policy_iteration = hb.PolicyIteration(mdp=mdp, theta_threshold=theta)"
   ]
  },
  {
   "cell_type": "code",
   "execution_count": 14,
   "metadata": {},
   "outputs": [],
   "source": [
    "# Run PolicyIteration\n",
    "pi_optimal_policy, pi_state_values = policy_iteration.run()"
   ]
  },
  {
   "cell_type": "code",
   "execution_count": 15,
   "metadata": {},
   "outputs": [
    {
     "name": "stdout",
     "output_type": "stream",
     "text": [
      "╔═══╦═══╦═══╦═══╦═══╗\n",
      "║ ↓ ║ ↓ ║ ↓ ║ ↓ ║ ↓ ║\n",
      "╠═══╬═══╬═══╬═══╬═══╣\n",
      "║ ↓ ║ ↓ ║ ↓ ║ ↓ ║ ↓ ║\n",
      "╠═══╬═══╬═══╬═══╬═══╣\n",
      "║ → ║ → ║ → ║ → ║ ↓ ║\n",
      "╚═══╩═══╩═══╩═══╩═══╝\n"
     ]
    }
   ],
   "source": [
    "print(pi_optimal_policy)"
   ]
  },
  {
   "cell_type": "code",
   "execution_count": 16,
   "metadata": {},
   "outputs": [
    {
     "name": "stdout",
     "output_type": "stream",
     "text": [
      "╔════════╦════════╦════════╦════════╦════════╗\n",
      "║ 48.46  ║ 54.95  ║ 62.17  ║ 70.19  ║ 79.10  ║\n",
      "╠════════╬════════╬════════╬════════╬════════╣\n",
      "║ 54.95  ║ 62.17  ║ 70.19  ║ 79.10  ║ 89.00  ║\n",
      "╠════════╬════════╬════════╬════════╬════════╣\n",
      "║ 62.17  ║ 70.19  ║ 79.10  ║ 89.00  ║ 100.00 ║\n",
      "╚════════╩════════╩════════╩════════╩════════╝\n"
     ]
    }
   ],
   "source": [
    "hb.Render.preview_V(mdp=mdp, learned_V=pi_state_values)"
   ]
  },
  {
   "cell_type": "markdown",
   "metadata": {},
   "source": [
    "### Value Iteration"
   ]
  },
  {
   "cell_type": "code",
   "execution_count": 17,
   "metadata": {},
   "outputs": [],
   "source": [
    "value_iteration = hb.ValueIteration(mdp=mdp, theta_threshold=theta)"
   ]
  },
  {
   "cell_type": "code",
   "execution_count": 18,
   "metadata": {},
   "outputs": [],
   "source": [
    "vi_optimal_policy, vi_state_values = value_iteration.run()"
   ]
  },
  {
   "cell_type": "code",
   "execution_count": 19,
   "metadata": {},
   "outputs": [
    {
     "name": "stdout",
     "output_type": "stream",
     "text": [
      "╔═══╦═══╦═══╦═══╦═══╗\n",
      "║ ↓ ║ ↓ ║ ↓ ║ ↓ ║ ↓ ║\n",
      "╠═══╬═══╬═══╬═══╬═══╣\n",
      "║ ↓ ║ ↓ ║ ↓ ║ ↓ ║ ↓ ║\n",
      "╠═══╬═══╬═══╬═══╬═══╣\n",
      "║ → ║ → ║ → ║ → ║ ↓ ║\n",
      "╚═══╩═══╩═══╩═══╩═══╝\n"
     ]
    }
   ],
   "source": [
    "print(vi_optimal_policy)"
   ]
  },
  {
   "cell_type": "code",
   "execution_count": 20,
   "metadata": {},
   "outputs": [
    {
     "name": "stdout",
     "output_type": "stream",
     "text": [
      "╔════════╦════════╦════════╦════════╦════════╗\n",
      "║ 48.46  ║ 54.95  ║ 62.17  ║ 70.19  ║ 79.10  ║\n",
      "╠════════╬════════╬════════╬════════╬════════╣\n",
      "║ 54.95  ║ 62.17  ║ 70.19  ║ 79.10  ║ 89.00  ║\n",
      "╠════════╬════════╬════════╬════════╬════════╣\n",
      "║ 62.17  ║ 70.19  ║ 79.10  ║ 89.00  ║ 100.00 ║\n",
      "╚════════╩════════╩════════╩════════╩════════╝\n"
     ]
    }
   ],
   "source": [
    "hb.Render.preview_V(mdp=mdp, learned_V=vi_state_values)"
   ]
  }
 ],
 "metadata": {
  "kernelspec": {
   "display_name": "Python 3",
   "language": "python",
   "name": "python3"
  },
  "language_info": {
   "codemirror_mode": {
    "name": "ipython",
    "version": 3
   },
   "file_extension": ".py",
   "mimetype": "text/x-python",
   "name": "python",
   "nbconvert_exporter": "python",
   "pygments_lexer": "ipython3",
   "version": "3.13.2"
  }
 },
 "nbformat": 4,
 "nbformat_minor": 2
}
