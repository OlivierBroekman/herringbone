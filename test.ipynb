{
 "cells": [
  {
   "cell_type": "code",
   "execution_count": null,
   "metadata": {},
   "outputs": [
    {
     "name": "stdout",
     "output_type": "stream",
     "text": [
      "[1, 2, 3, 4, 5, 6, 7, 8, 9, 10, 11, 12]\n",
      "['a1', 'a2', 'a3', 'a4']\n",
      "[[1, 2, 3, 4], [5, 6, 7, 8], [9, 10, 11, 12]]\n",
      "[2, 4, 5, 9]\n"
     ]
    }
   ],
   "source": [
    "import pprint\n",
    "import numpy as np\n",
    "\n",
    "grid =   [[1, 2, 3, 4],\n",
    "          [5, 6, 7, 8],\n",
    "          [9, 10, 11, 12]]\n",
    "\n",
    "states = [state for row in grid for state in row]\n",
    "\n",
    "actions = [\"a1\", \"a2\", \"a3\", \"a4\"]\n",
    "\n",
    "directions = [[0, 1], [0, -1], [1, 0], [-1, 0]]\n",
    "\n",
    "print(states)\n",
    "print(actions)\n",
    "\n",
    "m_actions = len(actions)\n",
    "\n",
    "# directions = [action.direction for action in actions]\n",
    "\n",
    "next_state = [grid[0+direction[0]][0+direction[1]] for direction in directions]\n",
    "\n",
    "# policy = {state: {action: (1/m_actions) for action in actions} for state in states}\n",
    "\n",
    "# value = [state + action_chance*0  for (state, action_dict) in policy.items() for action_chance in action_dict.values()]\n",
    "\n",
    "# pprint.pprint(policy)\n",
    "# pprint.pprint(value)\n",
    "pprint.pprint(grid)\n",
    "print(next_state)"
   ]
  }
 ],
 "metadata": {
  "kernelspec": {
   "display_name": "Python 3",
   "language": "python",
   "name": "python3"
  },
  "language_info": {
   "codemirror_mode": {
    "name": "ipython",
    "version": 3
   },
   "file_extension": ".py",
   "mimetype": "text/x-python",
   "name": "python",
   "nbconvert_exporter": "python",
   "pygments_lexer": "ipython3",
   "version": "3.13.2"
  }
 },
 "nbformat": 4,
 "nbformat_minor": 2
}
