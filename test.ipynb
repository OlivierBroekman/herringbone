{
 "cells": [
  {
   "cell_type": "code",
   "execution_count": 19,
   "metadata": {},
   "outputs": [
    {
     "name": "stdout",
     "output_type": "stream",
     "text": [
      "{1: 0.0, 2: 0.0, 3: 0.0, 4: 0.0, 5: 0.0, 6: 0.0, 7: 0.0, 8: 1.0}\n"
     ]
    }
   ],
   "source": [
    "import numpy as np\n",
    "from copy import deepcopy\n",
    "\n",
    "grid = [[1, 2, 3],\n",
    "        [3, 4, 5],\n",
    "        [6, 7, 8]]\n",
    "\n",
    "states = [piece for row in grid for piece in row]\n",
    "\n",
    "board_shape = (len(grid), len(grid[0]))\n",
    "\n",
    "directions = [[1,0], [0,1]]\n",
    "probabilities = [0.5, 0.5]\n",
    "\n",
    "inner = {piece: 0. for piece in states}\n",
    "outer = {piece: deepcopy(inner) for piece in states}\n",
    "\n",
    "piece = 8\n",
    "idx = [2, 2]\n",
    "for direction, probability in zip(directions, probabilities):\n",
    "    pass\n",
    "    new_idx = [np.clip(idx[0] + direction[0], a_min=0, a_max=board_shape[0] - 1),\n",
    "               np.clip(idx[1] + direction[1], a_min=0, a_max=board_shape[1] - 1)]\n",
    "    new_piece = grid[new_idx[0]][new_idx[1]]\n",
    "    outer[piece][new_piece] += probability\n",
    "\n",
    "print(outer[8])"
   ]
  }
 ],
 "metadata": {
  "kernelspec": {
   "display_name": "Python 3",
   "language": "python",
   "name": "python3"
  },
  "language_info": {
   "codemirror_mode": {
    "name": "ipython",
    "version": 3
   },
   "file_extension": ".py",
   "mimetype": "text/x-python",
   "name": "python",
   "nbconvert_exporter": "python",
   "pygments_lexer": "ipython3",
   "version": "3.10.0"
  }
 },
 "nbformat": 4,
 "nbformat_minor": 2
}
