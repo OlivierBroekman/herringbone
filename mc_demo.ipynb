{
 "cells": [
  {
   "cell_type": "code",
   "execution_count": 1,
   "metadata": {},
   "outputs": [
    {
     "name": "stdout",
     "output_type": "stream",
     "text": [
      "All initialization tests passed.\n",
      "imported herringbone without any errors :)\n"
     ]
    }
   ],
   "source": [
    "import herringbone as hb"
   ]
  },
  {
   "cell_type": "code",
   "execution_count": 2,
   "metadata": {},
   "outputs": [],
   "source": [
    "\n",
    "# create an MDP\n",
    "map_names = [\"-\", \"example\", \"easy\", \"danger_holes\", \"double_fish\", \"wall_of_death\", \"example2\", \"mega\"]\n",
    "selected_map_id = 1\n",
    "\n",
    "state_path = \"herringbone/env_core/config/state_config.json\"\n",
    "map_path = f\"herringbone/env_core/maps/{map_names[selected_map_id]}.csv\"\n",
    "action_path = \"herringbone/env_core/config/action_config.json\"\n",
    "\n",
    "GAMMA = 0.9\n",
    "\n",
    "demo_mdp = hb.MDP(state_path, map_path, action_path, seed=42, gamma=GAMMA)\n"
   ]
  },
  {
   "cell_type": "code",
   "execution_count": null,
   "metadata": {},
   "outputs": [
    {
     "name": "stdout",
     "output_type": "stream",
     "text": [
      "╔═══════╦═══════╦═══════╦═══════╦═══════╗\n",
      "║ \u001b[34m  -1 \u001b[0m ║ \u001b[34m  -1 \u001b[0m ║ \u001b[34m  -1 \u001b[0m ║ \u001b[34m  -1 \u001b[0m ║ \u001b[34m  -1 \u001b[0m ║\n",
      "╠═══════╬═══════╬═══════╬═══════╬═══════╣\n",
      "║ \u001b[34m  -1 \u001b[0m ║ \u001b[34m  -1 \u001b[0m ║ \u001b[34m  -1 \u001b[0m ║ \u001b[34m  -1 \u001b[0m ║ \u001b[34m  -1 \u001b[0m ║\n",
      "╠═══════╬═══════╬═══════╬═══════╬═══════╣\n",
      "║ \u001b[34m  -1 \u001b[0m ║ \u001b[34m  -1 \u001b[0m ║ \u001b[34m  -1 \u001b[0m ║ \u001b[34m  -1 \u001b[0m ║ \u001b[32m  10 \u001b[0m ║\n",
      "╚═══════╩═══════╩═══════╩═══════╩═══════╝[0]\n",
      "t: 0 | S: [2, 0], R: -1, A: ←\n",
      "t: 1 | S: [2, 0], R: -1, A: ↓\n",
      "t: 2 | S: [2, 0], R: -1, A: ↑\n",
      "t: 3 | S: [1, 0], R: -1, A: ↑\n",
      "t: 4 | S: [0, 0], R: -1, A: ↓\n",
      "t: 5 | S: [1, 0], R: -1, A: ↑\n",
      "t: 6 | S: [0, 0], R: -1, A: →\n",
      "t: 7 | S: [0, 1], R: -1, A: ←\n",
      "t: 8 | S: [0, 0], R: -1, A: ↑\n",
      "t: 9 | S: [0, 0], R: -1, A: ↓\n",
      "t: 10 | S: [1, 0], R: -1, A: ←\n",
      "t: 11 | S: [1, 0], R: -1, A: ↓\n",
      "t: 12 | S: [2, 0], R: -1, A: ←\n",
      "t: 13 | S: [2, 0], R: -1, A: →\n",
      "t: 14 | S: [2, 1], R: -1, A: ←\n",
      "t: 15 | S: [2, 0], R: -1, A: ↑\n",
      "t: 16 | S: [1, 0], R: -1, A: ↑\n",
      "t: 17 | S: [0, 0], R: -1, A: →\n",
      "t: 18 | S: [0, 1], R: -1, A: ←\n",
      "t: 19 | S: [0, 0], R: -1, A: ←\n",
      "t: 20 | S: [0, 0], R: -1, A: ↑\n",
      "t: 21 | S: [0, 0], R: -1, A: ↓\n",
      "t: 22 | S: [1, 0], R: -1, A: ↑\n",
      "t: 23 | S: [0, 0], R: -1, A: ↑\n",
      "t: 24 | S: [0, 0], R: -1, A: →\n",
      "t: 25 | S: [0, 1], R: -1, A: ←\n",
      "t: 26 | S: [0, 0], R: -1, A: ←\n",
      "t: 27 | S: [0, 0], R: -1, A: ←\n",
      "t: 28 | S: [0, 0], R: -1, A: ↑\n",
      "t: 29 | S: [0, 0], R: -1, A: ↓\n",
      "t: 30 | S: [1, 0], R: -1, A: ↓\n",
      "t: 31 | S: [2, 0], R: -1, A: →\n",
      "t: 32 | S: [2, 1], R: -1, A: ↓\n",
      "t: 33 | S: [2, 1], R: -1, A: ↑\n",
      "t: 34 | S: [1, 1], R: -1, A: ↑\n",
      "t: 35 | S: [0, 1], R: -1, A: →\n",
      "t: 36 | S: [0, 2], R: -1, A: ↓\n",
      "t: 37 | S: [1, 2], R: -1, A: ←\n",
      "t: 38 | S: [1, 1], R: -1, A: →\n",
      "t: 39 | S: [1, 2], R: -1, A: →\n",
      "t: 40 | S: [1, 3], R: -1, A: ↓\n",
      "t: 41 | S: [2, 3], R: -1, A: ←\n",
      "t: 42 | S: [2, 2], R: -1, A: →\n",
      "t: 43 | S: [2, 3], R: -1, A: →\n",
      "t: 44 | S: [2, 4], R: 10, A: None\n",
      "Trajectory(states=[[2, 0], [2, 0], [2, 0], [1, 0], [0, 0], [1, 0], [0, 0], [0, 1], [0, 0], [0, 0], [1, 0], [1, 0], [2, 0], [2, 0], [2, 1], [2, 0], [1, 0], [0, 0], [0, 1], [0, 0], [0, 0], [0, 0], [1, 0], [0, 0], [0, 0], [0, 1], [0, 0], [0, 0], [0, 0], [0, 0], [1, 0], [2, 0], [2, 1], [2, 1], [1, 1], [0, 1], [0, 2], [1, 2], [1, 1], [1, 2], [1, 3], [2, 3], [2, 2], [2, 3], [2, 4]], actions=[←, ↓, ↑, ↑, ↓, ↑, →, ←, ↑, ↓, ←, ↓, ←, →, ←, ↑, ↑, →, ←, ←, ↑, ↓, ↑, ↑, →, ←, ←, ←, ↑, ↓, ↓, →, ↓, ↑, ↑, →, ↓, ←, →, →, ↓, ←, →, →], rewards=[nan, -1, -1, -1, -1, -1, -1, -1, -1, -1, -1, -1, -1, -1, -1, -1, -1, -1, -1, -1, -1, -1, -1, -1, -1, -1, -1, -1, -1, -1, -1, -1, -1, -1, -1, -1, -1, -1, -1, -1, -1, -1, -1, -1, 10])\n"
     ]
    }
   ],
   "source": [
    "\n",
    "random_policy = hb.EpsilonGreedyPolicy(mdp=demo_mdp, epsilon=1)\n",
    "episode = hb.Episode(mdp=demo_mdp, policy=random_policy, max_depth=1000)\n",
    "episode.peek()\n",
    "episode.run(\"ascii\")\n",
    "print(episode.trajectory)"
   ]
  },
  {
   "cell_type": "code",
   "execution_count": 4,
   "metadata": {},
   "outputs": [],
   "source": [
    "# Add the render function for previewing a Value Function (hate this!)\n",
    "def preview_V(mdp, learned_V):\n",
    "    \n",
    "    states_2d = mdp.get_board().states\n",
    "    x = len(states_2d)\n",
    "    y = len(states_2d[0])\n",
    "    \n",
    "    v_values =  ['%.2f' % v for v in list(learned_V.values())]\n",
    "\n",
    "    two_d_list = [v_values[i * y:(i + 1) * y] for i in range(x)]\n",
    "\n",
    "    # Print 2D list\n",
    "    for row in two_d_list:\n",
    "        print(row)"
   ]
  },
  {
   "cell_type": "code",
   "execution_count": 5,
   "metadata": {},
   "outputs": [
    {
     "name": "stdout",
     "output_type": "stream",
     "text": [
      "╔═════════╦═════════╦═════════╦═════════╦═════════╗\n",
      "║ ↑/↓/←/→ ║ ↑/↓/←/→ ║ ↑/↓/←/→ ║ ↑/↓/←/→ ║ ↑/↓/←/→ ║\n",
      "╠═════════╬═════════╬═════════╬═════════╬═════════╣\n",
      "║ ↑/↓/←/→ ║ ↑/↓/←/→ ║ ↑/↓/←/→ ║ ↑/↓/←/→ ║ ↑/↓/←/→ ║\n",
      "╠═════════╬═════════╬═════════╬═════════╬═════════╣\n",
      "║ ↑/↓/←/→ ║ ↑/↓/←/→ ║ ↑/↓/←/→ ║ ↑/↓/←/→ ║ ↑/↓/←/→ ║\n",
      "╚═════════╩═════════╩═════════╩═════════╩═════════╝\n"
     ]
    }
   ],
   "source": [
    "policy = hb.EpsilonGreedyPolicy(mdp=demo_mdp, epsilon=1)  # defaults to uniform\n",
    "print(policy)"
   ]
  },
  {
   "cell_type": "code",
   "execution_count": 6,
   "metadata": {},
   "outputs": [],
   "source": [
    "episode = hb.Episode(mdp=demo_mdp, policy=policy, max_depth=1000)"
   ]
  },
  {
   "cell_type": "code",
   "execution_count": 7,
   "metadata": {},
   "outputs": [
    {
     "name": "stdout",
     "output_type": "stream",
     "text": [
      "t: 0 | S: [2, 0], R: -1, A: ↓\n",
      "t: 1 | S: [2, 0], R: -1, A: ↑\n",
      "t: 2 | S: [1, 0], R: -1, A: ↑\n",
      "t: 3 | S: [0, 0], R: -1, A: ↓\n",
      "t: 4 | S: [1, 0], R: -1, A: →\n",
      "t: 5 | S: [1, 1], R: -1, A: →\n",
      "t: 6 | S: [1, 2], R: -1, A: →\n",
      "t: 7 | S: [1, 3], R: -1, A: ↑\n",
      "t: 8 | S: [0, 3], R: -1, A: ↑\n",
      "t: 9 | S: [0, 3], R: -1, A: ←\n",
      "t: 10 | S: [0, 2], R: -1, A: ←\n",
      "t: 11 | S: [0, 1], R: -1, A: →\n",
      "t: 12 | S: [0, 2], R: -1, A: ↑\n",
      "t: 13 | S: [0, 2], R: -1, A: ←\n",
      "t: 14 | S: [0, 1], R: -1, A: ↓\n",
      "t: 15 | S: [1, 1], R: -1, A: ↑\n",
      "t: 16 | S: [0, 1], R: -1, A: ←\n",
      "t: 17 | S: [0, 0], R: -1, A: ↓\n",
      "t: 18 | S: [1, 0], R: -1, A: ↓\n",
      "t: 19 | S: [2, 0], R: -1, A: ↑\n",
      "t: 20 | S: [1, 0], R: -1, A: →\n",
      "t: 21 | S: [1, 1], R: -1, A: ←\n",
      "t: 22 | S: [1, 0], R: -1, A: ←\n",
      "t: 23 | S: [1, 0], R: -1, A: ↓\n",
      "t: 24 | S: [2, 0], R: -1, A: ↑\n",
      "t: 25 | S: [1, 0], R: -1, A: →\n",
      "t: 26 | S: [1, 1], R: -1, A: ↓\n",
      "t: 27 | S: [2, 1], R: -1, A: →\n",
      "t: 28 | S: [2, 2], R: -1, A: ↓\n",
      "t: 29 | S: [2, 2], R: -1, A: →\n",
      "t: 30 | S: [2, 3], R: -1, A: ↓\n",
      "t: 31 | S: [2, 3], R: -1, A: →\n",
      "t: 32 | S: [2, 4], R: 10, A: None\n"
     ]
    }
   ],
   "source": [
    "episode.run(\"sar\")"
   ]
  },
  {
   "cell_type": "code",
   "execution_count": 8,
   "metadata": {},
   "outputs": [],
   "source": [
    "N = 1000\n",
    "mc_predictor = hb.MonteCarloPredictor(demo_mdp)\n",
    "mc_predictor.evaluate_policy(policy, n_samples=N)"
   ]
  },
  {
   "cell_type": "code",
   "execution_count": 9,
   "metadata": {},
   "outputs": [
    {
     "name": "stdout",
     "output_type": "stream",
     "text": [
      "['-8.66', '-8.16', '-6.98', '-5.40', '-3.63']\n",
      "['-8.56', '-7.95', '-6.70', '-3.94', '0.23']\n",
      "['-8.39', '-7.59', '-5.62', '-1.01', '0.00']\n"
     ]
    }
   ],
   "source": [
    "preview_V(demo_mdp, mc_predictor.value_functions)"
   ]
  },
  {
   "cell_type": "code",
   "execution_count": 10,
   "metadata": {},
   "outputs": [],
   "source": [
    "\n",
    "N = 1000\n",
    "mc_control = hb.MonteCarloController(demo_mdp, epsilon=0.25)\n",
    "mc_control.train(n_episodes=N)\n",
    "trained_policy = mc_control.policy"
   ]
  },
  {
   "cell_type": "code",
   "execution_count": 11,
   "metadata": {},
   "outputs": [
    {
     "name": "stdout",
     "output_type": "stream",
     "text": [
      "{[0, 0]: {↑: 0.0625, ↓: 0.0625, ←: 0.0625, →: 0.8125}, [0, 1]: {↑: 0.0625, ↓: 0.8125, ←: 0.0625, →: 0.0625}, [0, 2]: {↑: 0.0625, ↓: 0.8125, ←: 0.0625, →: 0.0625}, [0, 3]: {↑: 0.06249999999981622, ↓: 0.8124999999962357, ←: 0.06250000000350547, →: 0.0625000000004426}, [0, 4]: {↑: 0.06172818508349649, ↓: 0.8067586212797855, ←: 0.0667464836478563, →: 0.06476670998886169}, [1, 0]: {↑: 0.0625, ↓: 0.8125, ←: 0.0625, →: 0.0625}, [1, 1]: {↑: 0.0625, ↓: 0.0625, ←: 0.0625, →: 0.8125}, [1, 2]: {↑: 0.0625, ↓: 0.0625, ←: 0.0625, →: 0.8125}, [1, 3]: {↑: 0.0625, ↓: 0.8125, ←: 0.0625, →: 0.0625}, [1, 4]: {↑: 0.0625, ↓: 0.8125, ←: 0.0625, →: 0.0625}, [2, 0]: {↑: 0.0625, ↓: 0.0625, ←: 0.0625, →: 0.8125}, [2, 1]: {↑: 0.0625, ↓: 0.0625, ←: 0.0625, →: 0.8125}, [2, 2]: {↑: 0.0625, ↓: 0.0625, ←: 0.0625, →: 0.8125}, [2, 3]: {↑: 0.0625, ↓: 0.0625, ←: 0.0625, →: 0.8125}, [2, 4]: {↑: 0.25, ↓: 0.25, ←: 0.25, →: 0.25}}\n",
      "╔═════════╦═════════╦═════════╦═════════╦═════════╗\n",
      "║    →    ║    ↓    ║    ↓    ║    ↓    ║    ↓    ║\n",
      "╠═════════╬═════════╬═════════╬═════════╬═════════╣\n",
      "║    ↓    ║    →    ║    →    ║    ↓    ║    ↓    ║\n",
      "╠═════════╬═════════╬═════════╬═════════╬═════════╣\n",
      "║    →    ║    →    ║    →    ║    →    ║ ↑/↓/←/→ ║\n",
      "╚═════════╩═════════╩═════════╩═════════╩═════════╝\n"
     ]
    }
   ],
   "source": [
    "print(trained_policy.get_policy())\n",
    "print(trained_policy)"
   ]
  },
  {
   "cell_type": "code",
   "execution_count": 12,
   "metadata": {},
   "outputs": [
    {
     "name": "stdout",
     "output_type": "stream",
     "text": [
      "t: 0 | S: [2, 0], R: -1, A: ←\n",
      "t: 1 | S: [2, 0], R: -1, A: →\n",
      "t: 2 | S: [2, 1], R: -1, A: →\n",
      "t: 3 | S: [2, 2], R: -1, A: ↑\n",
      "t: 4 | S: [1, 2], R: -1, A: ↑\n",
      "t: 5 | S: [0, 2], R: -1, A: ↓\n",
      "t: 6 | S: [1, 2], R: -1, A: →\n",
      "t: 7 | S: [1, 3], R: -1, A: ↓\n",
      "t: 8 | S: [2, 3], R: -1, A: →\n",
      "t: 9 | S: [2, 4], R: 10, A: None\n"
     ]
    }
   ],
   "source": [
    "episode = hb.Episode(mdp=demo_mdp, policy=trained_policy, max_depth=1000)\n",
    "episode.run(\"sar\")"
   ]
  },
  {
   "cell_type": "code",
   "execution_count": 13,
   "metadata": {},
   "outputs": [],
   "source": [
    "N = 1000\n",
    "mc_predictor = hb.MonteCarloPredictor(demo_mdp)\n",
    "mc_predictor.evaluate_policy(trained_policy, n_samples=N)"
   ]
  },
  {
   "cell_type": "code",
   "execution_count": 14,
   "metadata": {},
   "outputs": [
    {
     "name": "stdout",
     "output_type": "stream",
     "text": [
      "['0.48', '1.93', '3.45', '4.81', '8.00']\n",
      "['1.29', '3.03', '4.88', '6.80', '9.51']\n",
      "['2.53', '4.38', '6.55', '9.21', '0.00']\n"
     ]
    }
   ],
   "source": [
    "preview_V(demo_mdp, mc_predictor.value_functions)"
   ]
  }
 ],
 "metadata": {
  "kernelspec": {
   "display_name": "Python 3",
   "language": "python",
   "name": "python3"
  },
  "language_info": {
   "codemirror_mode": {
    "name": "ipython",
    "version": 3
   },
   "file_extension": ".py",
   "mimetype": "text/x-python",
   "name": "python",
   "nbconvert_exporter": "python",
   "pygments_lexer": "ipython3",
   "version": "3.12.6"
  }
 },
 "nbformat": 4,
 "nbformat_minor": 2
}
