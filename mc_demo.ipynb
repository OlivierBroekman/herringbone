{
 "cells": [
  {
   "cell_type": "code",
   "execution_count": 1,
   "metadata": {},
   "outputs": [
    {
     "name": "stdout",
     "output_type": "stream",
     "text": [
      "All initialization tests passed.\n",
      "imported herringbone without any errors :)\n"
     ]
    }
   ],
   "source": [
    "import herringbone as hb"
   ]
  },
  {
   "cell_type": "code",
   "execution_count": 2,
   "metadata": {},
   "outputs": [],
   "source": [
    "\n",
    "# create an MDP\n",
    "map_names = [\"-\", \"example\", \"easy\", \"danger_holes\", \"double_fish\", \"wall_of_death\", \"example2\", \"mega\"]\n",
    "selected_map_id = 1\n",
    "\n",
    "state_path = \"herringbone/env_core/config/state_config.json\"\n",
    "map_path = f\"herringbone/env_core/maps/{map_names[selected_map_id]}.csv\"\n",
    "action_path = \"herringbone/env_core/config/action_config.json\"\n",
    "\n",
    "demo_mdp = hb.MDP(state_path, map_path, action_path, seed=42)\n"
   ]
  },
  {
   "cell_type": "code",
   "execution_count": 3,
   "metadata": {},
   "outputs": [],
   "source": [
    "random_policy = hb.EpsilonGreedyPolicy(mdp=demo_mdp, epsilon=1)\n",
    "episode = hb.Episode(mdp=demo_mdp, policy=random_policy, max_depth=1000)"
   ]
  },
  {
   "cell_type": "code",
   "execution_count": 4,
   "metadata": {},
   "outputs": [],
   "source": [
    "# Add the render function for previewing a Value Function (hate this!)\n",
    "def preview_V(mdp, learned_V):\n",
    "    \n",
    "    states_2d = mdp.get_board().states\n",
    "    x = len(states_2d)\n",
    "    y = len(states_2d[0])\n",
    "    \n",
    "    v_values =  ['%.2f' % v for v in list(learned_V.values())]\n",
    "\n",
    "    two_d_list = [v_values[i * y:(i + 1) * y] for i in range(x)]\n",
    "\n",
    "    # Print 2D list\n",
    "    for row in two_d_list:\n",
    "        print(row)"
   ]
  },
  {
   "cell_type": "code",
   "execution_count": 5,
   "metadata": {},
   "outputs": [
    {
     "name": "stdout",
     "output_type": "stream",
     "text": [
      "╔═════════╦═════════╦═════════╦═════════╦═════════╗\n",
      "║ ↑/↓/←/→ ║ ↑/↓/←/→ ║ ↑/↓/←/→ ║ ↑/↓/←/→ ║ ↑/↓/←/→ ║\n",
      "╠═════════╬═════════╬═════════╬═════════╬═════════╣\n",
      "║ ↑/↓/←/→ ║ ↑/↓/←/→ ║ ↑/↓/←/→ ║ ↑/↓/←/→ ║ ↑/↓/←/→ ║\n",
      "╠═════════╬═════════╬═════════╬═════════╬═════════╣\n",
      "║ ↑/↓/←/→ ║ ↑/↓/←/→ ║ ↑/↓/←/→ ║ ↑/↓/←/→ ║ ↑/↓/←/→ ║\n",
      "╚═════════╩═════════╩═════════╩═════════╩═════════╝\n"
     ]
    }
   ],
   "source": [
    "policy = hb.EpsilonGreedyPolicy(mdp=demo_mdp, epsilon=1)  # defaults to uniform\n",
    "print(policy)"
   ]
  },
  {
   "cell_type": "code",
   "execution_count": 6,
   "metadata": {},
   "outputs": [],
   "source": [
    "episode = hb.Episode(mdp=demo_mdp, policy=policy, max_depth=1000)"
   ]
  },
  {
   "cell_type": "code",
   "execution_count": 7,
   "metadata": {},
   "outputs": [
    {
     "name": "stdout",
     "output_type": "stream",
     "text": [
      "t: 0 | S: [0, 0], R: None, A: None\n",
      "t: 1 | S: [0, 0], R: -1, A: ↑\n",
      "t: 2 | S: [1, 0], R: -1, A: ↓\n",
      "t: 3 | S: [0, 0], R: -1, A: ↑\n",
      "t: 4 | S: [0, 0], R: -1, A: ↑\n",
      "t: 5 | S: [0, 0], R: -1, A: ↑\n",
      "t: 6 | S: [1, 0], R: -1, A: ↓\n",
      "t: 7 | S: [0, 0], R: -1, A: ↑\n",
      "t: 8 | S: [0, 1], R: -1, A: →\n",
      "t: 9 | S: [0, 0], R: -1, A: ←\n",
      "t: 10 | S: [0, 0], R: -1, A: ↑\n",
      "t: 11 | S: [1, 0], R: -1, A: ↓\n",
      "t: 12 | S: [1, 0], R: -1, A: ←\n",
      "t: 13 | S: [2, 0], R: -1, A: ↓\n",
      "t: 14 | S: [2, 0], R: -1, A: ←\n",
      "t: 15 | S: [2, 1], R: -1, A: →\n",
      "t: 16 | S: [2, 0], R: -1, A: ←\n",
      "t: 17 | S: [1, 0], R: -1, A: ↑\n",
      "t: 18 | S: [0, 0], R: -1, A: ↑\n",
      "t: 19 | S: [0, 1], R: -1, A: →\n",
      "t: 20 | S: [0, 0], R: -1, A: ←\n",
      "t: 21 | S: [0, 0], R: -1, A: ←\n",
      "t: 22 | S: [0, 0], R: -1, A: ↑\n",
      "t: 23 | S: [1, 0], R: -1, A: ↓\n",
      "t: 24 | S: [0, 0], R: -1, A: ↑\n",
      "t: 25 | S: [0, 0], R: -1, A: ↑\n",
      "t: 26 | S: [0, 1], R: -1, A: →\n",
      "t: 27 | S: [0, 0], R: -1, A: ←\n",
      "t: 28 | S: [0, 0], R: -1, A: ←\n",
      "t: 29 | S: [0, 0], R: -1, A: ←\n",
      "t: 30 | S: [0, 0], R: -1, A: ↑\n",
      "t: 31 | S: [1, 0], R: -1, A: ↓\n",
      "t: 32 | S: [2, 0], R: -1, A: ↓\n",
      "t: 33 | S: [2, 1], R: -1, A: →\n",
      "t: 34 | S: [2, 1], R: -1, A: ↓\n",
      "t: 35 | S: [1, 1], R: -1, A: ↑\n",
      "t: 36 | S: [0, 1], R: -1, A: ↑\n",
      "t: 37 | S: [0, 2], R: -1, A: →\n",
      "t: 38 | S: [1, 2], R: -1, A: ↓\n",
      "t: 39 | S: [1, 1], R: -1, A: ←\n",
      "t: 40 | S: [1, 2], R: -1, A: →\n",
      "t: 41 | S: [1, 3], R: -1, A: →\n",
      "t: 42 | S: [2, 3], R: -1, A: ↓\n",
      "t: 43 | S: [2, 2], R: -1, A: ←\n",
      "t: 44 | S: [2, 3], R: -1, A: →\n"
     ]
    }
   ],
   "source": [
    "episode.run(\"sar\")"
   ]
  },
  {
   "cell_type": "code",
   "execution_count": 8,
   "metadata": {},
   "outputs": [],
   "source": [
    "DISCOUNT = 0.9"
   ]
  },
  {
   "cell_type": "code",
   "execution_count": 9,
   "metadata": {},
   "outputs": [],
   "source": [
    "N = 1000\n",
    "mc_predictor = hb.MonteCarloPredictor(demo_mdp, discount=DISCOUNT)\n",
    "mc_predictor.evaluate_policy(policy, n_samples=N)"
   ]
  },
  {
   "cell_type": "code",
   "execution_count": 10,
   "metadata": {},
   "outputs": [
    {
     "name": "stdout",
     "output_type": "stream",
     "text": [
      "['-8.47', '-7.96', '-6.71', '-4.94', '-2.89']\n",
      "['-8.36', '-7.59', '-6.19', '-3.21', '-2.73']\n",
      "['-8.12', '-7.27', '-5.35', '-4.14', '0.00']\n"
     ]
    }
   ],
   "source": [
    "preview_V(demo_mdp, mc_predictor.value_functions)"
   ]
  },
  {
   "cell_type": "code",
   "execution_count": null,
   "metadata": {},
   "outputs": [],
   "source": [
    "\n",
    "N = 2000\n",
    "mc_control = hb.MonteCarloController(demo_mdp, discount=DISCOUNT, epsilon=0.25, start_coords=(0,0))\n",
    "mc_control.train(n_episodes=N)\n",
    "trained_policy = mc_control.policy"
   ]
  },
  {
   "cell_type": "code",
   "execution_count": 12,
   "metadata": {},
   "outputs": [
    {
     "name": "stdout",
     "output_type": "stream",
     "text": [
      "{[0, 0]: {↑: 0.0625, ↓: 0.0625, ←: 0.0625, →: 0.8125}, [0, 1]: {↑: 0.0625, ↓: 0.0625, ←: 0.0625, →: 0.8125}, [0, 2]: {↑: 0.0625, ↓: 0.0625, ←: 0.0625, →: 0.8125}, [0, 3]: {↑: 0.0625, ↓: 0.0625, ←: 0.0625, →: 0.8125}, [0, 4]: {↑: 0.0625, ↓: 0.8125, ←: 0.0625, →: 0.0625}, [1, 0]: {↑: 0.0625, ↓: 0.8125, ←: 0.0625, →: 0.0625}, [1, 1]: {↑: 0.0625, ↓: 0.0625, ←: 0.0625, →: 0.8125}, [1, 2]: {↑: 0.0625, ↓: 0.8125, ←: 0.0625, →: 0.0625}, [1, 3]: {↑: 0.7716654101204212, ↓: 0.10387803580612215, ←: 0.062141325856301756, →: 0.062315228217154864}, [1, 4]: {↑: 0.06171848249700168, ↓: 0.8067548206484451, ←: 0.06675486062881801, →: 0.06477183622573526}, [2, 0]: {↑: 0.0625, ↓: 0.0625, ←: 0.0625, →: 0.8125}, [2, 1]: {↑: 0.0625, ↓: 0.0625, ←: 0.0625, →: 0.8125}, [2, 2]: {↑: 0.0625, ↓: 0.0625, ←: 0.0625, →: 0.8125}, [2, 3]: {↑: 0.29014732197552345, ↓: 0.07255659428135718, ←: 0.058944214211823276, →: 0.5783518695312961}, [2, 4]: {↑: 0.25, ↓: 0.25, ←: 0.25, →: 0.25}}\n",
      "╔═════════╦═════════╦═════════╦═════════╦═════════╗\n",
      "║    →    ║    →    ║    →    ║    →    ║    ↓    ║\n",
      "╠═════════╬═════════╬═════════╬═════════╬═════════╣\n",
      "║    ↓    ║    →    ║    ↓    ║    ↑    ║    ↓    ║\n",
      "╠═════════╬═════════╬═════════╬═════════╬═════════╣\n",
      "║    →    ║    →    ║    →    ║    →    ║ ↑/↓/←/→ ║\n",
      "╚═════════╩═════════╩═════════╩═════════╩═════════╝\n"
     ]
    }
   ],
   "source": [
    "print(trained_policy.get_policy())\n",
    "print(trained_policy)"
   ]
  },
  {
   "cell_type": "code",
   "execution_count": 13,
   "metadata": {},
   "outputs": [
    {
     "name": "stdout",
     "output_type": "stream",
     "text": [
      "t: 0 | S: [0, 0], R: None, A: None\n",
      "t: 1 | S: [0, 1], R: -1, A: →\n",
      "t: 2 | S: [0, 2], R: -1, A: →\n",
      "t: 3 | S: [0, 3], R: -1, A: →\n",
      "t: 4 | S: [0, 2], R: -1, A: ←\n",
      "t: 5 | S: [0, 3], R: -1, A: →\n",
      "t: 6 | S: [0, 4], R: -1, A: →\n",
      "t: 7 | S: [0, 3], R: -1, A: ←\n",
      "t: 8 | S: [0, 4], R: -1, A: →\n",
      "t: 9 | S: [1, 4], R: -1, A: ↓\n"
     ]
    }
   ],
   "source": [
    "episode = hb.Episode(mdp=demo_mdp, policy=trained_policy, max_depth=1000)\n",
    "episode.run(\"sar\")"
   ]
  },
  {
   "cell_type": "code",
   "execution_count": 14,
   "metadata": {},
   "outputs": [],
   "source": [
    "N = 1000\n",
    "mc_predictor = hb.MonteCarloPredictor(demo_mdp, discount=DISCOUNT)\n",
    "mc_predictor.evaluate_policy(trained_policy, n_samples=N)"
   ]
  },
  {
   "cell_type": "code",
   "execution_count": 15,
   "metadata": {},
   "outputs": [
    {
     "name": "stdout",
     "output_type": "stream",
     "text": [
      "['0.91', '2.34', '4.03', '5.93', '8.36']\n",
      "['2.01', '3.75', '5.65', '5.31', '6.55']\n",
      "['3.42', '5.64', '8.18', '6.09', '0.00']\n"
     ]
    }
   ],
   "source": [
    "preview_V(demo_mdp, mc_predictor.value_functions)"
   ]
  }
 ],
 "metadata": {
  "kernelspec": {
   "display_name": "Python 3",
   "language": "python",
   "name": "python3"
  },
  "language_info": {
   "codemirror_mode": {
    "name": "ipython",
    "version": 3
   },
   "file_extension": ".py",
   "mimetype": "text/x-python",
   "name": "python",
   "nbconvert_exporter": "python",
   "pygments_lexer": "ipython3",
   "version": "3.12.6"
  }
 },
 "nbformat": 4,
 "nbformat_minor": 2
}
