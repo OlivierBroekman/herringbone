{
 "cells": [
  {
   "cell_type": "code",
   "execution_count": 1,
   "metadata": {},
   "outputs": [
    {
     "name": "stdout",
     "output_type": "stream",
     "text": [
      "All initialization tests passed.\n",
      "imported herringbone without any errors :)\n"
     ]
    }
   ],
   "source": [
    "import herringbone as hb"
   ]
  },
  {
   "cell_type": "code",
   "execution_count": null,
   "metadata": {},
   "outputs": [],
   "source": [
    "\n",
    "# create an MDP\n",
    "map_names = [\"-\", \"example\", \"easy\", \"danger_holes\", \"double_fish\", \"wall_of_death\", \"example2\", \"mega\"]\n",
    "selected_map_id = 1\n",
    "\n",
    "state_path = \"herringbone/env_core/config/state_config.json\"\n",
    "map_path = f\"herringbone/env_core/maps/{map_names[selected_map_id]}.csv\"\n",
    "action_path = \"herringbone/env_core/config/action_config.json\"\n",
    "\n",
    "GAMMA = 0.9\n",
    "\n",
    "demo_mdp = hb.MDP(state_path, map_path, action_path, seed=42, gamma=GAMMA)\n"
   ]
  },
  {
   "cell_type": "code",
   "execution_count": 3,
   "metadata": {},
   "outputs": [
    {
     "name": "stdout",
     "output_type": "stream",
     "text": [
      "╔═══════╦═══════╦═══════╦═══════╦═══════╗\n",
      "║ \u001b[34m  -1 \u001b[0m ║ \u001b[34m  -1 \u001b[0m ║ \u001b[34m  -1 \u001b[0m ║ \u001b[34m  -1 \u001b[0m ║ \u001b[31m -100\u001b[0m ║\n",
      "╠═══════╬═══════╬═══════╬═══════╬═══════╣\n",
      "║ \u001b[34m  -1 \u001b[0m ║ \u001b[34m  -1 \u001b[0m ║ \u001b[34m  -1 \u001b[0m ║ \u001b[34m  -1 \u001b[0m ║ \u001b[34m  -1 \u001b[0m ║\n",
      "╠═══════╬═══════╬═══════╬═══════╬═══════╣\n",
      "║ \u001b[34m  -1 \u001b[0m ║ \u001b[34m  -1 \u001b[0m ║ \u001b[31m -100\u001b[0m ║ \u001b[34m  -1 \u001b[0m ║ \u001b[34m  -1 \u001b[0m ║\n",
      "╠═══════╬═══════╬═══════╬═══════╬═══════╣\n",
      "║ \u001b[31m -100\u001b[0m ║ \u001b[34m  -1 \u001b[0m ║ \u001b[34m  -1 \u001b[0m ║ \u001b[34m  -1 \u001b[0m ║ \u001b[34m  -1 \u001b[0m ║\n",
      "╠═══════╬═══════╬═══════╬═══════╬═══════╣\n",
      "║ \u001b[34m  -1 \u001b[0m ║ \u001b[34m  -1 \u001b[0m ║ \u001b[34m  -1 \u001b[0m ║ \u001b[34m  -1 \u001b[0m ║ \u001b[32m  10 \u001b[0m ║\n",
      "╚═══════╩═══════╩═══════╩═══════╩═══════╝[0]\n",
      "t: 0 | S: [3, 3], R: -1, A: ↑\n",
      "t: 1 | S: [2, 3], R: -1, A: ↓\n",
      "t: 2 | S: [3, 3], R: -1, A: ↑\n",
      "t: 3 | S: [2, 3], R: -1, A: ↑\n",
      "t: 4 | S: [1, 3], R: -1, A: ↑\n",
      "t: 5 | S: [0, 3], R: -1, A: ↓\n",
      "t: 6 | S: [1, 3], R: -1, A: ↑\n",
      "t: 7 | S: [0, 3], R: -1, A: →\n",
      "t: 8 | S: [0, 4], R: -100, A: None\n",
      "Trajectory(states=[[3, 3], [2, 3], [3, 3], [2, 3], [1, 3], [0, 3], [1, 3], [0, 3], [0, 4]], actions=[↑, ↓, ↑, ↑, ↑, ↓, ↑, →], rewards=[nan, -1, -1, -1, -1, -1, -1, -1, -100])\n"
     ]
    }
   ],
   "source": [
    "\n",
    "random_policy = hb.EpsilonGreedyPolicy(mdp=demo_mdp, epsilon=1)\n",
    "episode = hb.Episode(mdp=demo_mdp, policy=random_policy, max_depth=1000)\n",
    "episode.peek()\n",
    "episode.run(\"sar\")\n",
    "print(episode.trajectory)"
   ]
  },
  {
   "cell_type": "code",
   "execution_count": 4,
   "metadata": {},
   "outputs": [],
   "source": [
    "# Add the render function for previewing a Value Function (hate this!)\n",
    "def preview_V(mdp, learned_V):\n",
    "    \n",
    "    states_2d = mdp.get_board().states\n",
    "    x = len(states_2d)\n",
    "    y = len(states_2d[0])\n",
    "    \n",
    "    v_values =  ['%.2f' % v for v in list(learned_V.values())]\n",
    "\n",
    "    two_d_list = [v_values[i * y:(i + 1) * y] for i in range(x)]\n",
    "\n",
    "    # Print 2D list\n",
    "    for row in two_d_list:\n",
    "        print(row)"
   ]
  },
  {
   "cell_type": "code",
   "execution_count": 5,
   "metadata": {},
   "outputs": [
    {
     "name": "stdout",
     "output_type": "stream",
     "text": [
      "╔═════════╦═════════╦═════════╦═════════╦═════════╗\n",
      "║ ↑/↓/←/→ ║ ↑/↓/←/→ ║ ↑/↓/←/→ ║ ↑/↓/←/→ ║ ↑/↓/←/→ ║\n",
      "╠═════════╬═════════╬═════════╬═════════╬═════════╣\n",
      "║ ↑/↓/←/→ ║ ↑/↓/←/→ ║ ↑/↓/←/→ ║ ↑/↓/←/→ ║ ↑/↓/←/→ ║\n",
      "╠═════════╬═════════╬═════════╬═════════╬═════════╣\n",
      "║ ↑/↓/←/→ ║ ↑/↓/←/→ ║ ↑/↓/←/→ ║ ↑/↓/←/→ ║ ↑/↓/←/→ ║\n",
      "╠═════════╬═════════╬═════════╬═════════╬═════════╣\n",
      "║ ↑/↓/←/→ ║ ↑/↓/←/→ ║ ↑/↓/←/→ ║ ↑/↓/←/→ ║ ↑/↓/←/→ ║\n",
      "╠═════════╬═════════╬═════════╬═════════╬═════════╣\n",
      "║ ↑/↓/←/→ ║ ↑/↓/←/→ ║ ↑/↓/←/→ ║ ↑/↓/←/→ ║ ↑/↓/←/→ ║\n",
      "╚═════════╩═════════╩═════════╩═════════╩═════════╝\n"
     ]
    }
   ],
   "source": [
    "policy = hb.EpsilonGreedyPolicy(mdp=demo_mdp, epsilon=1)  # defaults to uniform\n",
    "print(policy)"
   ]
  },
  {
   "cell_type": "code",
   "execution_count": 6,
   "metadata": {},
   "outputs": [],
   "source": [
    "episode = hb.Episode(mdp=demo_mdp, policy=policy, max_depth=1000)"
   ]
  },
  {
   "cell_type": "code",
   "execution_count": 7,
   "metadata": {},
   "outputs": [
    {
     "name": "stdout",
     "output_type": "stream",
     "text": [
      "t: 0 | S: [3, 3], R: -1, A: ←\n",
      "t: 1 | S: [3, 2], R: -1, A: ↑\n",
      "t: 2 | S: [2, 2], R: -100, A: None\n"
     ]
    }
   ],
   "source": [
    "episode.run(\"sar\")"
   ]
  },
  {
   "cell_type": "code",
   "execution_count": 8,
   "metadata": {},
   "outputs": [],
   "source": [
    "N = 1000\n",
    "mc_predictor = hb.MonteCarloPredictor(demo_mdp)\n",
    "mc_predictor.evaluate_policy(policy, n_samples=N)"
   ]
  },
  {
   "cell_type": "code",
   "execution_count": 9,
   "metadata": {},
   "outputs": [
    {
     "name": "stdout",
     "output_type": "stream",
     "text": [
      "['-37.41', '-41.95', '-51.53', '-60.82', '0.00']\n",
      "['-54.14', '-55.86', '-61.29', '-54.61', '-65.01']\n",
      "['-68.47', '-74.32', '0.00', '-55.24', '-40.86']\n",
      "['0.00', '-69.84', '-58.31', '-34.02', '-18.73']\n",
      "['-62.23', '-52.36', '-40.21', '-19.69', '0.00']\n"
     ]
    }
   ],
   "source": [
    "preview_V(demo_mdp, mc_predictor.value_functions)"
   ]
  },
  {
   "cell_type": "code",
   "execution_count": 10,
   "metadata": {},
   "outputs": [],
   "source": [
    "\n",
    "N = 1000\n",
    "mc_control = hb.MonteCarloController(demo_mdp, epsilon=0.25)\n",
    "mc_control.train(n_episodes=N)\n",
    "trained_policy = mc_control.policy"
   ]
  },
  {
   "cell_type": "code",
   "execution_count": 11,
   "metadata": {},
   "outputs": [
    {
     "name": "stdout",
     "output_type": "stream",
     "text": [
      "{[0, 0]: {↑: 0.7093345261483012, ↓: 0.0943948379888203, ←: 0.09679999750470507, →: 0.09947063835817344}, [0, 1]: {↑: 0.06498524437565394, ↓: 0.06357586944290133, ←: 0.06267531489871683, →: 0.8087635712827278}, [0, 2]: {↑: 0.06983267473754859, ↓: 0.8021578430390877, ←: 0.0646296183142185, →: 0.06337986390914521}, [0, 3]: {↑: 0.7395425453360874, ↓: 0.09776607010772033, ←: 0.09953507748812199, →: 0.06315630706807034}, [0, 4]: {↑: 0.25, ↓: 0.25, ←: 0.25, →: 0.25}, [1, 0]: {↑: 0.059534930029504676, ↓: 0.7739534290126943, ←: 0.10418603438083268, →: 0.06232560657696829}, [1, 1]: {↑: 0.06315278868614109, ↓: 0.0622523634447295, ←: 0.8097532277452256, →: 0.06484162012390376}, [1, 2]: {↑: 0.1813628508273646, ↓: 0.6728053007774504, ←: 0.07629021824241065, →: 0.06954163015277437}, [1, 3]: {↑: 0.24961041531768585, ↓: 0.08145798399171397, ←: 0.06381927305995024, →: 0.60511232763065}, [1, 4]: {↑: 0.0624999999208524, ↓: 0.8124999998124419, ←: 0.06250000024600379, →: 0.06250000002070193}, [2, 0]: {↑: 0.07153609095591115, ↓: 0.06665197296786698, ←: 0.06321668329421791, →: 0.7985952527820039}, [2, 1]: {↑: 0.06270991078658467, ↓: 0.8097875181335058, ←: 0.06492567103567566, →: 0.0625769000442338}, [2, 2]: {↑: 0.25, ↓: 0.25, ←: 0.25, →: 0.25}, [2, 3]: {↑: 0.0625, ↓: 0.0625, ←: 0.0625, →: 0.8125}, [2, 4]: {↑: 0.0625, ↓: 0.8125, ←: 0.0625, →: 0.0625}, [3, 0]: {↑: 0.25, ↓: 0.25, ←: 0.25, →: 0.25}, [3, 1]: {↑: 0.06250185111922496, ↓: 0.06250040339275094, ←: 0.06249991710551975, →: 0.8124978283825044}, [3, 2]: {↑: 0.0625, ↓: 0.0625, ←: 0.0625, →: 0.8125}, [3, 3]: {↑: 0.0625, ↓: 0.0625, ←: 0.0625, →: 0.8125}, [3, 4]: {↑: 0.0625, ↓: 0.8125, ←: 0.0625, →: 0.0625}, [4, 0]: {↑: 0.25, ↓: 0.25, ←: 0.25, →: 0.25}, [4, 1]: {↑: 0.08149625869717532, ↓: 0.0648010264683682, ←: 0.06214875383274455, →: 0.7915539610017119}, [4, 2]: {↑: 0.0625, ↓: 0.0625, ←: 0.0625, →: 0.8125}, [4, 3]: {↑: 0.0625, ↓: 0.0625, ←: 0.0625, →: 0.8125}, [4, 4]: {↑: 0.25, ↓: 0.25, ←: 0.25, →: 0.25}}\n",
      "╔═════════╦═════════╦═════════╦═════════╦═════════╗\n",
      "║    ↑    ║    →    ║    ↓    ║    ↑    ║ ↑/↓/←/→ ║\n",
      "╠═════════╬═════════╬═════════╬═════════╬═════════╣\n",
      "║    ↓    ║    ←    ║    ↓    ║    →    ║    ↓    ║\n",
      "╠═════════╬═════════╬═════════╬═════════╬═════════╣\n",
      "║    →    ║    ↓    ║ ↑/↓/←/→ ║    →    ║    ↓    ║\n",
      "╠═════════╬═════════╬═════════╬═════════╬═════════╣\n",
      "║ ↑/↓/←/→ ║    →    ║    →    ║    →    ║    ↓    ║\n",
      "╠═════════╬═════════╬═════════╬═════════╬═════════╣\n",
      "║ ↑/↓/←/→ ║    →    ║    →    ║    →    ║ ↑/↓/←/→ ║\n",
      "╚═════════╩═════════╩═════════╩═════════╩═════════╝\n"
     ]
    }
   ],
   "source": [
    "print(trained_policy.get_policy())\n",
    "print(trained_policy)"
   ]
  },
  {
   "cell_type": "code",
   "execution_count": 12,
   "metadata": {},
   "outputs": [
    {
     "name": "stdout",
     "output_type": "stream",
     "text": [
      "t: 0 | S: [3, 3], R: -1, A: →\n",
      "t: 1 | S: [3, 4], R: -1, A: ↓\n",
      "t: 2 | S: [4, 4], R: 10, A: None\n"
     ]
    }
   ],
   "source": [
    "episode = hb.Episode(mdp=demo_mdp, policy=trained_policy, max_depth=1000)\n",
    "episode.run(\"sar\")"
   ]
  },
  {
   "cell_type": "code",
   "execution_count": 13,
   "metadata": {},
   "outputs": [],
   "source": [
    "N = 1000\n",
    "mc_predictor = hb.MonteCarloPredictor(demo_mdp)\n",
    "mc_predictor.evaluate_policy(trained_policy, n_samples=N)"
   ]
  },
  {
   "cell_type": "code",
   "execution_count": 14,
   "metadata": {},
   "outputs": [
    {
     "name": "stdout",
     "output_type": "stream",
     "text": [
      "['0.00', '0.00', '0.00', '0.00', '0.00']\n",
      "['0.00', '0.00', '0.00', '4.58', '5.24']\n",
      "['0.00', '0.00', '0.00', '1.20', '6.82']\n",
      "['0.00', '4.58', '-1.00', '6.43', '9.22']\n",
      "['0.00', '0.00', '6.23', '9.03', '0.00']\n"
     ]
    }
   ],
   "source": [
    "preview_V(demo_mdp, mc_predictor.value_functions)"
   ]
  }
 ],
 "metadata": {
  "kernelspec": {
   "display_name": "Python 3",
   "language": "python",
   "name": "python3"
  },
  "language_info": {
   "codemirror_mode": {
    "name": "ipython",
    "version": 3
   },
   "file_extension": ".py",
   "mimetype": "text/x-python",
   "name": "python",
   "nbconvert_exporter": "python",
   "pygments_lexer": "ipython3",
   "version": "3.12.6"
  }
 },
 "nbformat": 4,
 "nbformat_minor": 2
}
