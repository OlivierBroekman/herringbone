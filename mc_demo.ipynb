{
 "cells": [
  {
   "cell_type": "code",
   "execution_count": 4,
   "metadata": {},
   "outputs": [],
   "source": [
    "import herringbone as hb"
   ]
  },
  {
   "cell_type": "code",
   "execution_count": 5,
   "metadata": {},
   "outputs": [],
   "source": [
    "\n",
    "# create an MDP\n",
    "map_names = [\"example\", \"easy\", \"danger_holes\", \"double_fish\", \"wall_of_death\"]\n",
    "selected_map_id = 0\n",
    "\n",
    "state_path = \"herringbone/env_core/config/state_config.json\"\n",
    "map_path = f\"herringbone/env_core/maps/{map_names[0]}.csv\"\n",
    "action_path = \"herringbone/env_core/config/action_config.json\"\n",
    "\n",
    "demo_mdp = hb.MDP(state_path, map_path, action_path)\n"
   ]
  },
  {
   "cell_type": "code",
   "execution_count": null,
   "metadata": {},
   "outputs": [],
   "source": [
    "random_policy = hb.EpsilonGreedyPolicy(mdp=demo_mdp, epsilon=1)\n",
    "episode = hb.Episode(mdp=demo_mdp, policy=random_policy, max_depth=1000)"
   ]
  },
  {
   "cell_type": "code",
   "execution_count": 6,
   "metadata": {},
   "outputs": [],
   "source": [
    "# Add the render function for previewing a Value Function (hate this!)\n",
    "def preview_V(mdp, learned_V):\n",
    "    \n",
    "    states_2d = mdp.get_board().states\n",
    "    x = len(states_2d)\n",
    "    y = len(states_2d[0])\n",
    "    \n",
    "    v_values =  ['%.2f' % v for v in list(learned_V.values())]\n",
    "\n",
    "    two_d_list = [v_values[i * y:(i + 1) * y] for i in range(x)]\n",
    "\n",
    "    # Print 2D list\n",
    "    for row in two_d_list:\n",
    "        print(row)"
   ]
  },
  {
   "cell_type": "code",
   "execution_count": 7,
   "metadata": {},
   "outputs": [],
   "source": [
    "DISCOUNT = 0.9\n",
    "SEED = 42"
   ]
  },
  {
   "cell_type": "code",
   "execution_count": 8,
   "metadata": {},
   "outputs": [
    {
     "name": "stdout",
     "output_type": "stream",
     "text": [
      "╔═══╦═══╦═══╦═══╦═══╗\n",
      "║ ← ║ ← ║ ← ║ ← ║ ← ║\n",
      "╠═══╬═══╬═══╬═══╬═══╣\n",
      "║ ← ║ ← ║ ← ║ ← ║ ← ║\n",
      "╠═══╬═══╬═══╬═══╬═══╣\n",
      "║ ← ║ ← ║ ← ║ ← ║ ← ║\n",
      "╚═══╩═══╩═══╩═══╩═══╝\n"
     ]
    }
   ],
   "source": [
    "N = 1000\n",
    "policy = hb.EpsilonGreedyPolicy(mdp=demo_mdp, epsilon=1)  # defaults to uniform\n",
    "print(policy)\n",
    "mc_predictor = hb.MonteCarloPredictor(demo_mdp, discount=DISCOUNT, seed=SEED)\n",
    "mc_predictor.evaluate_policy(policy, n_samples=1000)"
   ]
  },
  {
   "cell_type": "code",
   "execution_count": 9,
   "metadata": {},
   "outputs": [
    {
     "name": "stdout",
     "output_type": "stream",
     "text": [
      "['-8.70', '-8.10', '-7.21', '-5.44', '-3.52']\n",
      "['-8.65', '-7.85', '-6.23', '-3.33', '-2.69']\n",
      "['-8.33', '-7.59', '-5.32', '-3.41', '0.00']\n"
     ]
    }
   ],
   "source": [
    "preview_V(demo_mdp, mc_predictor.value_functions)"
   ]
  }
 ],
 "metadata": {
  "kernelspec": {
   "display_name": "Python 3",
   "language": "python",
   "name": "python3"
  },
  "language_info": {
   "codemirror_mode": {
    "name": "ipython",
    "version": 3
   },
   "file_extension": ".py",
   "mimetype": "text/x-python",
   "name": "python",
   "nbconvert_exporter": "python",
   "pygments_lexer": "ipython3",
   "version": "3.12.6"
  }
 },
 "nbformat": 4,
 "nbformat_minor": 2
}
