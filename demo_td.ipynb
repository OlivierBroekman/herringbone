{
 "cells": [
  {
   "cell_type": "markdown",
   "id": "83888d8b",
   "metadata": {},
   "source": [
    "# Temporal Difference Demo"
   ]
  },
  {
   "cell_type": "code",
   "execution_count": 1,
   "id": "7aa9f6b1",
   "metadata": {},
   "outputs": [
    {
     "name": "stdout",
     "output_type": "stream",
     "text": [
      "All initialization tests passed.\n",
      "imported herringbone without any errors :)\n"
     ]
    }
   ],
   "source": [
    "from pathlib import Path\n",
    "from herringbone import MDP, Sarsa, QLearning, TDZero, Render"
   ]
  },
  {
   "cell_type": "markdown",
   "id": "e294b389",
   "metadata": {},
   "source": [
    "For the maps, we have the following options."
   ]
  },
  {
   "cell_type": "code",
   "execution_count": 2,
   "id": "b6fa69d5",
   "metadata": {},
   "outputs": [
    {
     "name": "stdout",
     "output_type": "stream",
     "text": [
      "danger_holes\n",
      "double_fish\n",
      "easy\n",
      "example\n",
      "example2\n",
      "mega\n",
      "slides\n",
      "wall_of_death\n"
     ]
    }
   ],
   "source": [
    "maps = sorted([m.stem for m in Path(\"herringbone/env_core/maps\").glob('*.csv')])\n",
    "\n",
    "print(*maps, sep='\\n')"
   ]
  },
  {
   "cell_type": "code",
   "execution_count": 3,
   "id": "56bcfc21",
   "metadata": {},
   "outputs": [],
   "source": [
    "map_choice = 'danger_holes'\n",
    "\n",
    "state_config = \"herringbone/env_core/config/state_config.json\"\n",
    "map_ = f\"herringbone/env_core/maps/{map_choice}.csv\"\n",
    "action_config = \"herringbone/env_core/config/action_config.json\"\n",
    "\n",
    "seed = 42\n",
    "gamma = 1"
   ]
  },
  {
   "cell_type": "code",
   "execution_count": 4,
   "id": "15252a0d",
   "metadata": {},
   "outputs": [
    {
     "name": "stdout",
     "output_type": "stream",
     "text": [
      "╔═════════╦═════════╦═════════╦═════════╦═════════╗\n",
      "║ \u001b[34m       \u001b[0m ║ \u001b[34m       \u001b[0m ║ \u001b[34m       \u001b[0m ║ \u001b[34m       \u001b[0m ║ \u001b[31m  hole \u001b[0m ║\n",
      "╠═════════╬═════════╬═════════╬═════════╬═════════╣\n",
      "║ \u001b[34m       \u001b[0m ║ \u001b[34m       \u001b[0m ║ \u001b[34m       \u001b[0m ║ \u001b[34m       \u001b[0m ║ \u001b[34m       \u001b[0m ║\n",
      "╠═════════╬═════════╬═════════╬═════════╬═════════╣\n",
      "║ \u001b[34m       \u001b[0m ║ \u001b[34m       \u001b[0m ║ \u001b[31m  hole \u001b[0m ║ \u001b[34m       \u001b[0m ║ \u001b[34m       \u001b[0m ║\n",
      "╠═════════╬═════════╬═════════╬═════════╬═════════╣\n",
      "║ \u001b[31m  hole \u001b[0m ║ \u001b[34m       \u001b[0m ║ \u001b[34m       \u001b[0m ║ \u001b[34m       \u001b[0m ║ \u001b[34m       \u001b[0m ║\n",
      "╠═════════╬═════════╬═════════╬═════════╬═════════╣\n",
      "║ \u001b[34m       \u001b[0m ║ \u001b[34m       \u001b[0m ║ \u001b[34m       \u001b[0m ║ \u001b[34m       \u001b[0m ║ \u001b[32m<x)))><\u001b[0m ║\n",
      "╚═════════╩═════════╩═════════╩═════════╩═════════╝\n"
     ]
    }
   ],
   "source": [
    "mdp_s = MDP(\n",
    "    state_config=state_config,\n",
    "    map=map_,\n",
    "    action_config=action_config,\n",
    "    seed=seed,\n",
    "    gamma=gamma,\n",
    ")\n",
    "\n",
    "mdp_q = MDP(\n",
    "    state_config=state_config,\n",
    "    map=map_,\n",
    "    action_config=action_config,\n",
    "    seed=seed,\n",
    "    gamma=gamma,\n",
    ")\n",
    "\n",
    "print(mdp_s.get_board())"
   ]
  },
  {
   "cell_type": "code",
   "execution_count": 5,
   "id": "7913bef2",
   "metadata": {},
   "outputs": [
    {
     "name": "stdout",
     "output_type": "stream",
     "text": [
      "╔═════════╦═════════╦═════════╦═════════╦═════════╗\n",
      "║    ↓    ║    →    ║    →    ║    ↓    ║ ↑/↓/←/→ ║\n",
      "╠═════════╬═════════╬═════════╬═════════╬═════════╣\n",
      "║    ↓    ║    →    ║    →    ║    →    ║    ↓    ║\n",
      "╠═════════╬═════════╬═════════╬═════════╬═════════╣\n",
      "║    ↓    ║    ↓    ║ ↑/↓/←/→ ║    ↓    ║    ↓    ║\n",
      "╠═════════╬═════════╬═════════╬═════════╬═════════╣\n",
      "║ ↑/↓/←/→ ║    ↓    ║    →    ║    ↓    ║    ↓    ║\n",
      "╠═════════╬═════════╬═════════╬═════════╬═════════╣\n",
      "║    →    ║    →    ║    →    ║    →    ║ ↑/↓/←/→ ║\n",
      "╚═════════╩═════════╩═════════╩═════════╩═════════╝\n",
      "╔═════════╦═════════╦═════════╦═════════╦═════════╗\n",
      "║   ↓/→   ║   ↓/→   ║   ↓/→   ║    ↓    ║ ↑/↓/←/→ ║\n",
      "╠═════════╬═════════╬═════════╬═════════╬═════════╣\n",
      "║   ↓/→   ║   ↓/→   ║    →    ║   ↓/→   ║    ↓    ║\n",
      "╠═════════╬═════════╬═════════╬═════════╬═════════╣\n",
      "║    →    ║    ↓    ║ ↑/↓/←/→ ║   ↓/→   ║    ↓    ║\n",
      "╠═════════╬═════════╬═════════╬═════════╬═════════╣\n",
      "║ ↑/↓/←/→ ║   ↓/→   ║   ↓/→   ║   ↓/→   ║    ↓    ║\n",
      "╠═════════╬═════════╬═════════╬═════════╬═════════╣\n",
      "║    →    ║    →    ║    →    ║    →    ║ ↑/↓/←/→ ║\n",
      "╚═════════╩═════════╩═════════╩═════════╩═════════╝\n"
     ]
    }
   ],
   "source": [
    "s = Sarsa(num_episodes=10_000, mdp=mdp_s)\n",
    "q = QLearning(num_episodes=10_000, mdp=mdp_q)\n",
    "\n",
    "s.run()\n",
    "q.run()\n",
    "\n",
    "print(s.policy)\n",
    "print(q.policy)"
   ]
  },
  {
   "cell_type": "code",
   "execution_count": 6,
   "id": "5d4e745e",
   "metadata": {},
   "outputs": [
    {
     "name": "stdout",
     "output_type": "stream",
     "text": [
      "╔═════════╦═════════╦═════════╦═════════╦═════════╗\n",
      "║ -112.84 ║ -107.07 ║ -100.70 ║  -99.56 ║   0.00  ║\n",
      "╠═════════╬═════════╬═════════╬═════════╬═════════╣\n",
      "║ -105.39 ║ -109.18 ║  -97.91 ║  -93.92 ║  -84.21 ║\n",
      "╠═════════╬═════════╬═════════╬═════════╬═════════╣\n",
      "║ -102.52 ║  -99.65 ║   0.00  ║  -90.69 ║  -49.34 ║\n",
      "╠═════════╬═════════╬═════════╬═════════╬═════════╣\n",
      "║   0.00  ║  -97.00 ║  -72.34 ║  -74.49 ║  -14.85 ║\n",
      "╠═════════╬═════════╬═════════╬═════════╬═════════╣\n",
      "║  -94.77 ║  -87.58 ║  -63.16 ║  -39.14 ║   0.00  ║\n",
      "╚═════════╩═════════╩═════════╩═════════╩═════════╝\n",
      "╔═════════╦═════════╦═════════╦═════════╦═════════╗\n",
      "║ -114.43 ║ -112.19 ║ -106.32 ║ -101.17 ║   0.00  ║\n",
      "╠═════════╬═════════╬═════════╬═════════╬═════════╣\n",
      "║ -111.70 ║ -105.59 ║ -100.30 ║ -104.53 ║ -101.31 ║\n",
      "╠═════════╬═════════╬═════════╬═════════╬═════════╣\n",
      "║ -104.70 ║ -105.45 ║   0.00  ║  -75.32 ║ -101.50 ║\n",
      "╠═════════╬═════════╬═════════╬═════════╬═════════╣\n",
      "║   0.00  ║  -94.30 ║  -82.06 ║  -69.44 ║  -92.94 ║\n",
      "╠═════════╬═════════╬═════════╬═════════╬═════════╣\n",
      "║  -99.70 ║  -71.72 ║  -31.69 ║  -13.24 ║   0.00  ║\n",
      "╚═════════╩═════════╩═════════╩═════════╩═════════╝\n"
     ]
    }
   ],
   "source": [
    "V_s = TDZero(1000, s.policy).run()\n",
    "V_q = TDZero(1000, q.policy).run()\n",
    "\n",
    "Render.preview_V(mdp=mdp_s, learned_V=V_s)\n",
    "Render.preview_V(mdp=mdp_q, learned_V=V_q)"
   ]
  }
 ],
 "metadata": {
  "kernelspec": {
   "display_name": "Python 3 (ipykernel)",
   "language": "python",
   "name": "python3"
  },
  "language_info": {
   "codemirror_mode": {
    "name": "ipython",
    "version": 3
   },
   "file_extension": ".py",
   "mimetype": "text/x-python",
   "name": "python",
   "nbconvert_exporter": "python",
   "pygments_lexer": "ipython3",
   "version": "3.12.3"
  }
 },
 "nbformat": 4,
 "nbformat_minor": 5
}
