{
 "cells": [
  {
   "cell_type": "markdown",
   "id": "83888d8b",
   "metadata": {},
   "source": [
    "# Temporal Difference Demo"
   ]
  },
  {
   "cell_type": "code",
   "execution_count": 1,
   "id": "0a60c005",
   "metadata": {},
   "outputs": [
    {
     "name": "stdout",
     "output_type": "stream",
     "text": [
      "All initialization tests passed.\n",
      "imported herringbone without any errors :)\n"
     ]
    }
   ],
   "source": [
    "from pathlib import Path\n",
    "from herringbone import Render, MDP, TDZero, Sarsa, QLearning"
   ]
  },
  {
   "cell_type": "code",
   "execution_count": 2,
   "id": "b6fa69d5",
   "metadata": {},
   "outputs": [
    {
     "name": "stdout",
     "output_type": "stream",
     "text": [
      "Map options:\n",
      "\t\n",
      "\t- danger_holes\n",
      "\t- double_fish\n",
      "\t- easy\n",
      "\t- example\n",
      "\t- example2\n",
      "\t- mega\n",
      "\t- slides\n",
      "\t- wall_of_death\n",
      "\n",
      "Supported configurations:\n",
      "\t\n",
      "\t- action_config\n",
      "\t- old_actions\n",
      "\t- state_config\n"
     ]
    }
   ],
   "source": [
    "print('Map options:\\n\\t',\n",
    "      *sorted([m.stem for m in Path(\"herringbone/env_core/maps\").glob('*.csv')]), sep='\\n\\t- ')\n",
    "\n",
    "print('\\nSupported configurations:\\n\\t',\n",
    "      *sorted([c.stem for c in Path(\"herringbone/env_core/config\").glob('*.json')]), sep='\\n\\t- ')"
   ]
  },
  {
   "cell_type": "code",
   "execution_count": 3,
   "id": "2ebdb09d",
   "metadata": {},
   "outputs": [],
   "source": [
    "map_choice = 'danger_holes'\n",
    "\n",
    "state_config = \"herringbone/env_core/config/state_config.json\"\n",
    "map_ = f\"herringbone/env_core/maps/{map_choice}.csv\"\n",
    "action_config = \"herringbone/env_core/config/action_config.json\"\n",
    "\n",
    "num_episodes = 10_000\n",
    "seed = 42\n",
    "gamma = 1\n",
    "epsilon = 0.1"
   ]
  },
  {
   "cell_type": "code",
   "execution_count": 4,
   "id": "b515f471",
   "metadata": {},
   "outputs": [
    {
     "name": "stdout",
     "output_type": "stream",
     "text": [
      "╔═════════╦═════════╦═════════╦═════════╦═════════╗\n",
      "║ \u001b[34m       \u001b[0m ║ \u001b[34m       \u001b[0m ║ \u001b[34m       \u001b[0m ║ \u001b[34m       \u001b[0m ║ \u001b[31m  hole \u001b[0m ║\n",
      "╠═════════╬═════════╬═════════╬═════════╬═════════╣\n",
      "║ \u001b[34m       \u001b[0m ║ \u001b[34m       \u001b[0m ║ \u001b[34m       \u001b[0m ║ \u001b[34m       \u001b[0m ║ \u001b[34m       \u001b[0m ║\n",
      "╠═════════╬═════════╬═════════╬═════════╬═════════╣\n",
      "║ \u001b[34m       \u001b[0m ║ \u001b[34m       \u001b[0m ║ \u001b[31m  hole \u001b[0m ║ \u001b[34m       \u001b[0m ║ \u001b[34m       \u001b[0m ║\n",
      "╠═════════╬═════════╬═════════╬═════════╬═════════╣\n",
      "║ \u001b[31m  hole \u001b[0m ║ \u001b[34m       \u001b[0m ║ \u001b[34m       \u001b[0m ║ \u001b[34m       \u001b[0m ║ \u001b[34m       \u001b[0m ║\n",
      "╠═════════╬═════════╬═════════╬═════════╬═════════╣\n",
      "║ \u001b[34m       \u001b[0m ║ \u001b[34m       \u001b[0m ║ \u001b[34m       \u001b[0m ║ \u001b[34m       \u001b[0m ║ \u001b[32m<x)))><\u001b[0m ║\n",
      "╚═════════╩═════════╩═════════╩═════════╩═════════╝\n"
     ]
    }
   ],
   "source": [
    "mdp_s = MDP(\n",
    "    state_config=state_config,\n",
    "    map=map_,\n",
    "    action_config=action_config,\n",
    "    seed=seed,\n",
    "    gamma=gamma,\n",
    ")\n",
    "\n",
    "mdp_q = MDP(\n",
    "    state_config=state_config,\n",
    "    map=map_,\n",
    "    action_config=action_config,\n",
    "    seed=seed,\n",
    "    gamma=gamma,\n",
    ")\n",
    "\n",
    "print(mdp_s.get_board())"
   ]
  },
  {
   "cell_type": "code",
   "execution_count": 5,
   "id": "7913bef2",
   "metadata": {},
   "outputs": [
    {
     "name": "stdout",
     "output_type": "stream",
     "text": [
      "╔═════════╦═════════╦═════════╦═════════╦═════════╗\n",
      "║    →    ║    ↓    ║    →    ║    ↓    ║ ↑/↓/←/→ ║\n",
      "╠═════════╬═════════╬═════════╬═════════╬═════════╣\n",
      "║    ↑    ║    ↓    ║    ↑    ║    ↓    ║    ↓    ║\n",
      "╠═════════╬═════════╬═════════╬═════════╬═════════╣\n",
      "║    ↑    ║    ↓    ║ ↑/↓/←/→ ║    ↓    ║    ↓    ║\n",
      "╠═════════╬═════════╬═════════╬═════════╬═════════╣\n",
      "║ ↑/↓/←/→ ║    →    ║    ↓    ║    ↓    ║    ↓    ║\n",
      "╠═════════╬═════════╬═════════╬═════════╬═════════╣\n",
      "║    →    ║    →    ║    →    ║    →    ║ ↑/↓/←/→ ║\n",
      "╚═════════╩═════════╩═════════╩═════════╩═════════╝\n",
      "╔═════════╦═════════╦═════════╦═════════╦═════════╗\n",
      "║    ↓    ║    →    ║    →    ║    ↓    ║ ↑/↓/←/→ ║\n",
      "╠═════════╬═════════╬═════════╬═════════╬═════════╣\n",
      "║    ↓    ║    ↓    ║    →    ║   ↓/→   ║    ↓    ║\n",
      "╠═════════╬═════════╬═════════╬═════════╬═════════╣\n",
      "║    →    ║    ↓    ║ ↑/↓/←/→ ║   ↓/→   ║    ↓    ║\n",
      "╠═════════╬═════════╬═════════╬═════════╬═════════╣\n",
      "║ ↑/↓/←/→ ║   ↓/→   ║    →    ║   ↓/→   ║    ↓    ║\n",
      "╠═════════╬═════════╬═════════╬═════════╬═════════╣\n",
      "║    →    ║    →    ║    →    ║    →    ║ ↑/↓/←/→ ║\n",
      "╚═════════╩═════════╩═════════╩═════════╩═════════╝\n"
     ]
    }
   ],
   "source": [
    "s = Sarsa(num_episodes=num_episodes, mdp=mdp_s, epsilon=epsilon)\n",
    "q = QLearning(num_episodes=num_episodes, mdp=mdp_q, epsilon=epsilon)\n",
    "\n",
    "s.run()\n",
    "q.run()\n",
    "\n",
    "print(s.policy)\n",
    "print(q.policy)"
   ]
  },
  {
   "cell_type": "code",
   "execution_count": 6,
   "id": "5d4e745e",
   "metadata": {},
   "outputs": [
    {
     "name": "stdout",
     "output_type": "stream",
     "text": [
      "╔════════╦════════╦════════╦════════╦════════╗\n",
      "║ -14.81 ║ -13.03 ║  4.49  ║ -14.70 ║  0.00  ║\n",
      "╠════════╬════════╬════════╬════════╬════════╣\n",
      "║ -14.03 ║ -11.26 ║  2.15  ║ -13.73 ║  7.61  ║\n",
      "╠════════╬════════╬════════╬════════╬════════╣\n",
      "║ -11.54 ║ -6.39  ║  0.00  ║  0.83  ║  8.93  ║\n",
      "╠════════╬════════╬════════╬════════╬════════╣\n",
      "║  0.00  ║  1.61  ║  7.07  ║  8.92  ║ 10.00  ║\n",
      "╠════════╬════════╬════════╬════════╬════════╣\n",
      "║  6.68  ║ -7.66  ║  8.99  ║ 10.00  ║  0.00  ║\n",
      "╚════════╩════════╩════════╩════════╩════════╝\n",
      "╔════════╦════════╦════════╦════════╦════════╗\n",
      "║  1.50  ║ -5.14  ║  4.09  ║  5.65  ║  0.00  ║\n",
      "╠════════╬════════╬════════╬════════╬════════╣\n",
      "║ -12.92 ║  2.91  ║  5.10  ║  6.65  ║  7.81  ║\n",
      "╠════════╬════════╬════════╬════════╬════════╣\n",
      "║ -8.41  ║  4.21  ║  0.00  ║  7.90  ║  8.97  ║\n",
      "╠════════╬════════╬════════╬════════╬════════╣\n",
      "║  0.00  ║  6.77  ║  7.87  ║  8.94  ║ 10.00  ║\n",
      "╠════════╬════════╬════════╬════════╬════════╣\n",
      "║  6.48  ║  7.72  ║  8.84  ║  9.97  ║  0.00  ║\n",
      "╚════════╩════════╩════════╩════════╩════════╝\n"
     ]
    }
   ],
   "source": [
    "V_s = TDZero(num_episodes=num_episodes, policy=s.policy).run()\n",
    "V_q = TDZero(num_episodes=num_episodes, policy=q.policy).run()\n",
    "\n",
    "Render.preview_V(mdp=mdp_s, learned_V=V_s)\n",
    "Render.preview_V(mdp=mdp_q, learned_V=V_q)"
   ]
  }
 ],
 "metadata": {
  "kernelspec": {
   "display_name": "Python 3 (ipykernel)",
   "language": "python",
   "name": "python3"
  },
  "language_info": {
   "codemirror_mode": {
    "name": "ipython",
    "version": 3
   },
   "file_extension": ".py",
   "mimetype": "text/x-python",
   "name": "python",
   "nbconvert_exporter": "python",
   "pygments_lexer": "ipython3",
   "version": "3.12.3"
  }
 },
 "nbformat": 4,
 "nbformat_minor": 5
}
