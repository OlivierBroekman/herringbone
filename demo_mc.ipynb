{
 "cells": [
  {
   "cell_type": "code",
   "execution_count": 1,
   "metadata": {},
   "outputs": [
    {
     "name": "stdout",
     "output_type": "stream",
     "text": [
      "All initialization tests passed.\n",
      "imported herringbone without any errors :)\n"
     ]
    }
   ],
   "source": [
    "import herringbone as hb"
   ]
  },
  {
   "cell_type": "code",
   "execution_count": 2,
   "metadata": {},
   "outputs": [],
   "source": [
    "\n",
    "# create an MDP\n",
    "map_names = [\"slides\", \"example\", \"easy\", \"danger_holes\", \"double_fish\", \"wall_of_death\", \"example2\", \"mega\"]\n",
    "selected_map_id = 0\n",
    "\n",
    "state_path = \"herringbone/env_core/config/state_config.json\"\n",
    "map_path = f\"herringbone/env_core/maps/{map_names[selected_map_id]}.csv\"\n",
    "action_path = \"herringbone/env_core/config/action_config.json\"\n",
    "\n",
    "GAMMA = 1\n",
    "\n",
    "demo_mdp = hb.MDP(state_path, map_path, action_path, seed=42, gamma=GAMMA)\n"
   ]
  },
  {
   "cell_type": "code",
   "execution_count": 3,
   "metadata": {},
   "outputs": [
    {
     "name": "stdout",
     "output_type": "stream",
     "text": [
      "╔═══════╦═══════╦═══════╦═══════╗\n",
      "║ \u001b[32m  -1 \u001b[0m ║ \u001b[34m  -1 \u001b[0m ║ \u001b[34m  -1 \u001b[0m ║ \u001b[34m  -1 \u001b[0m ║\n",
      "╠═══════╬═══════╬═══════╬═══════╣\n",
      "║ \u001b[34m  -1 \u001b[0m ║ \u001b[34m  -1 \u001b[0m ║ \u001b[34m  -1 \u001b[0m ║ \u001b[34m  -1 \u001b[0m ║\n",
      "╠═══════╬═══════╬═══════╬═══════╣\n",
      "║ \u001b[34m  -1 \u001b[0m ║ \u001b[34m  -1 \u001b[0m ║ \u001b[34m  -1 \u001b[0m ║ \u001b[34m  -1 \u001b[0m ║\n",
      "╠═══════╬═══════╬═══════╬═══════╣\n",
      "║ \u001b[34m  -1 \u001b[0m ║ \u001b[34m  -1 \u001b[0m ║ \u001b[34m  -1 \u001b[0m ║ \u001b[32m  -1 \u001b[0m ║\n",
      "╚═══════╩═══════╩═══════╩═══════╝[0]\n",
      "t: 0 | S: [2, 3], R: -1, A: ↑\n",
      "t: 1 | S: [1, 3], R: -1, A: ←\n",
      "t: 2 | S: [1, 2], R: -1, A: ↑\n",
      "t: 3 | S: [0, 2], R: -1, A: ↑\n",
      "t: 4 | S: [0, 2], R: -1, A: ↑\n",
      "t: 5 | S: [0, 2], R: -1, A: ←\n",
      "t: 6 | S: [0, 1], R: -1, A: ←\n",
      "t: 7 | S: [0, 0], R: -1, A: None\n",
      "Trajectory(states=[[2, 3], [1, 3], [1, 2], [0, 2], [0, 2], [0, 2], [0, 1], [0, 0]], actions=[↑, ←, ↑, ↑, ↑, ←, ←], rewards=[nan, -1, -1, -1, -1, -1, -1, -1])\n"
     ]
    }
   ],
   "source": [
    "\n",
    "random_policy = hb.Policy(mdp=demo_mdp)\n",
    "episode = hb.Episode(mdp=demo_mdp, policy=random_policy, max_depth=1000)\n",
    "episode.peek()\n",
    "episode.run(\"sar\")\n",
    "print(episode.trajectory)"
   ]
  },
  {
   "cell_type": "code",
   "execution_count": 4,
   "metadata": {},
   "outputs": [],
   "source": [
    "N = 10000\n",
    "mc_predictor = hb.MonteCarloPredictor(demo_mdp)\n",
    "mc_predictor.evaluate_policy(random_policy, n_samples=N)\n"
   ]
  },
  {
   "cell_type": "code",
   "execution_count": 5,
   "metadata": {},
   "outputs": [
    {
     "name": "stdout",
     "output_type": "stream",
     "text": [
      "╔════════╦════════╦════════╦════════╗\n",
      "║  0.00  ║ -14.33 ║ -20.13 ║ -22.00 ║\n",
      "╠════════╬════════╬════════╬════════╣\n",
      "║ -13.62 ║ -18.07 ║ -20.20 ║ -19.93 ║\n",
      "╠════════╬════════╬════════╬════════╣\n",
      "║ -20.00 ║ -20.18 ║ -18.13 ║ -13.59 ║\n",
      "╠════════╬════════╬════════╬════════╣\n",
      "║ -22.04 ║ -20.14 ║ -14.09 ║  0.00  ║\n",
      "╚════════╩════════╩════════╩════════╝\n"
     ]
    }
   ],
   "source": [
    "hb.Render.preview_V(mdp=demo_mdp, learned_V=mc_predictor.value_functions)"
   ]
  },
  {
   "cell_type": "code",
   "execution_count": 6,
   "metadata": {},
   "outputs": [],
   "source": [
    "\n",
    "N = 100000\n",
    "mc_control = hb.MonteCarloController(demo_mdp, epsilon=0.1)\n",
    "mc_control.train(n_episodes=N)\n",
    "trained_policy = mc_control.policy"
   ]
  },
  {
   "cell_type": "code",
   "execution_count": 7,
   "metadata": {},
   "outputs": [
    {
     "name": "stdout",
     "output_type": "stream",
     "text": [
      "{[0, 0]: {↑: 0.25, ↓: 0.25, ←: 0.25, →: 0.25}, [0, 1]: {↑: 0.025, ↓: 0.025, ←: 0.925, →: 0.025}, [0, 2]: {↑: 0.025, ↓: 0.025, ←: 0.925, →: 0.025}, [0, 3]: {↑: 0.025, ↓: 0.025, ←: 0.925, →: 0.025}, [1, 0]: {↑: 0.925, ↓: 0.025, ←: 0.025, →: 0.025}, [1, 1]: {↑: 0.925, ↓: 0.025, ←: 0.025, →: 0.025}, [1, 2]: {↑: 0.025, ↓: 0.025, ←: 0.925, →: 0.025}, [1, 3]: {↑: 0.025, ↓: 0.925, ←: 0.025, →: 0.025}, [2, 0]: {↑: 0.925, ↓: 0.025, ←: 0.025, →: 0.025}, [2, 1]: {↑: 0.925, ↓: 0.025, ←: 0.025, →: 0.025}, [2, 2]: {↑: 0.025, ↓: 0.925, ←: 0.025, →: 0.025}, [2, 3]: {↑: 0.025, ↓: 0.925, ←: 0.025, →: 0.025}, [3, 0]: {↑: 0.025, ↓: 0.025, ←: 0.025, →: 0.925}, [3, 1]: {↑: 0.025, ↓: 0.025, ←: 0.025, →: 0.925}, [3, 2]: {↑: 0.025, ↓: 0.025, ←: 0.025, →: 0.925}, [3, 3]: {↑: 0.25, ↓: 0.25, ←: 0.25, →: 0.25}}\n",
      "╔═════════╦═════════╦═════════╦═════════╗\n",
      "║ ↑/↓/←/→ ║    ←    ║    ←    ║    ←    ║\n",
      "╠═════════╬═════════╬═════════╬═════════╣\n",
      "║    ↑    ║    ↑    ║    ←    ║    ↓    ║\n",
      "╠═════════╬═════════╬═════════╬═════════╣\n",
      "║    ↑    ║    ↑    ║    ↓    ║    ↓    ║\n",
      "╠═════════╬═════════╬═════════╬═════════╣\n",
      "║    →    ║    →    ║    →    ║ ↑/↓/←/→ ║\n",
      "╚═════════╩═════════╩═════════╩═════════╝\n"
     ]
    }
   ],
   "source": [
    "print(trained_policy.get_policy())\n",
    "print(trained_policy)"
   ]
  },
  {
   "cell_type": "code",
   "execution_count": 8,
   "metadata": {},
   "outputs": [
    {
     "name": "stdout",
     "output_type": "stream",
     "text": [
      "t: 0 | S: [0, 2], R: -1, A: ←\n",
      "t: 1 | S: [0, 1], R: -1, A: ←\n",
      "t: 2 | S: [0, 0], R: -1, A: None\n"
     ]
    }
   ],
   "source": [
    "episode = hb.Episode(mdp=demo_mdp, policy=trained_policy, max_depth=1000)\n",
    "episode.run(\"sar\")"
   ]
  },
  {
   "cell_type": "code",
   "execution_count": 9,
   "metadata": {},
   "outputs": [
    {
     "name": "stdout",
     "output_type": "stream",
     "text": [
      "{[0, 0]: {↑: 0.25, ↓: 0.25, ←: 0.25, →: 0.25}, [0, 1]: {↑: 0.0, ↓: 0.0, ←: 1.0, →: 0.0}, [0, 2]: {↑: 0.0, ↓: 0.0, ←: 1.0, →: 0.0}, [0, 3]: {↑: 0.0, ↓: 0.0, ←: 1.0, →: 0.0}, [1, 0]: {↑: 1.0, ↓: 0.0, ←: 0.0, →: 0.0}, [1, 1]: {↑: 1.0, ↓: 0.0, ←: 0.0, →: 0.0}, [1, 2]: {↑: 0.0, ↓: 0.0, ←: 1.0, →: 0.0}, [1, 3]: {↑: 0.0, ↓: 1.0, ←: 0.0, →: 0.0}, [2, 0]: {↑: 1.0, ↓: 0.0, ←: 0.0, →: 0.0}, [2, 1]: {↑: 1.0, ↓: 0.0, ←: 0.0, →: 0.0}, [2, 2]: {↑: 0.0, ↓: 1.0, ←: 0.0, →: 0.0}, [2, 3]: {↑: 0.0, ↓: 1.0, ←: 0.0, →: 0.0}, [3, 0]: {↑: 0.0, ↓: 0.0, ←: 0.0, →: 1.0}, [3, 1]: {↑: 0.0, ↓: 0.0, ←: 0.0, →: 1.0}, [3, 2]: {↑: 0.0, ↓: 0.0, ←: 0.0, →: 1.0}, [3, 3]: {↑: 0.25, ↓: 0.25, ←: 0.25, →: 0.25}}\n"
     ]
    }
   ],
   "source": [
    "trained_policy.hard_max()\n",
    "\n",
    "print(trained_policy.get_policy())"
   ]
  },
  {
   "cell_type": "code",
   "execution_count": 10,
   "metadata": {},
   "outputs": [
    {
     "name": "stdout",
     "output_type": "stream",
     "text": [
      "╔═══════╦═══════╦═══════╦═══════╗\n",
      "║  0.00 ║ -1.00 ║ -2.00 ║ -3.00 ║\n",
      "╠═══════╬═══════╬═══════╬═══════╣\n",
      "║ -1.00 ║ -2.00 ║ -3.00 ║ -2.00 ║\n",
      "╠═══════╬═══════╬═══════╬═══════╣\n",
      "║ -2.00 ║ -3.00 ║ -2.00 ║ -1.00 ║\n",
      "╠═══════╬═══════╬═══════╬═══════╣\n",
      "║ -3.00 ║ -2.00 ║ -1.00 ║  0.00 ║\n",
      "╚═══════╩═══════╩═══════╩═══════╝\n"
     ]
    }
   ],
   "source": [
    "N = 10000\n",
    "\n",
    "mc_predictor = hb.MonteCarloPredictor(demo_mdp)\n",
    "mc_predictor.evaluate_policy(trained_policy, n_samples=N)\n",
    "hb.Render.preview_V(mdp=demo_mdp, learned_V=mc_predictor.value_functions)"
   ]
  }
 ],
 "metadata": {
  "kernelspec": {
   "display_name": "Python 3",
   "language": "python",
   "name": "python3"
  },
  "language_info": {
   "codemirror_mode": {
    "name": "ipython",
    "version": 3
   },
   "file_extension": ".py",
   "mimetype": "text/x-python",
   "name": "python",
   "nbconvert_exporter": "python",
   "pygments_lexer": "ipython3",
   "version": "3.12.6"
  }
 },
 "nbformat": 4,
 "nbformat_minor": 2
}
